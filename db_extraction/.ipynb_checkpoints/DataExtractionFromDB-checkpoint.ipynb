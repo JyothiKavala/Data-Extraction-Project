{
 "cells": [
  {
   "cell_type": "markdown",
   "id": "9ef42696",
   "metadata": {},
   "source": [
    "***Connect to SQL Server and Extract Data***\n",
    "\n",
    "Below is the Python script to connect to SQL Server, execute a query, and save the extracted data to a CSV file."
   ]
  },
  {
   "cell_type": "code",
   "execution_count": 2,
   "id": "010fb67d",
   "metadata": {},
   "outputs": [
    {
     "name": "stderr",
     "output_type": "stream",
     "text": [
      "C:\\Users\\jyoth\\AppData\\Local\\Temp\\ipykernel_11620\\2801874350.py:16: UserWarning: pandas only supports SQLAlchemy connectable (engine/connection) or database string URI or sqlite3 DBAPI2 connection. Other DBAPI2 objects are not tested. Please consider using SQLAlchemy.\n",
      "  df = pd.read_sql(query, conn)\n"
     ]
    },
    {
     "name": "stdout",
     "output_type": "stream",
     "text": [
      "Data successfully extracted and saved to extracted_data.csv\n"
     ]
    }
   ],
   "source": [
    "import pyodbc\n",
    "import pandas as pd\n",
    "\n",
    "# SQL Server connection details\n",
    "server = 'JYOTHI\\SQLEXPRESS'   \n",
    "database = 'dataExtraction'\n",
    "driver = '{ODBC Driver 17 for SQL Server}'\n",
    "\n",
    "# Establish connection with Windows Authentication\n",
    "conn = pyodbc.connect(f'DRIVER={driver};SERVER={server};DATABASE={database};Trusted_Connection=yes;')\n",
    "\n",
    "# SQL Query to extract data\n",
    "query = \"SELECT * FROM sales\"  \n",
    "\n",
    "# Execute query and load data into a Pandas DataFrame\n",
    "df = pd.read_sql(query, conn)\n",
    "\n",
    "# Save extracted data to a CSV file\n",
    "df.to_csv(\"C:/Users/jyoth/Data-Extraction-Project/data/extracted_data.csv\", index=False)\n",
    "\n",
    "# Close the connection\n",
    "conn.close()\n",
    "\n",
    "print(\"Data successfully extracted and saved to extracted_data.csv\")\n"
   ]
  },
  {
   "cell_type": "markdown",
   "id": "e3754b54",
   "metadata": {},
   "source": [
    "You can also query the data in a database (dataExtraction) table (sales) to obtain a resultset and save the extracted resultset into a CSV file."
   ]
  },
  {
   "cell_type": "code",
   "execution_count": 7,
   "id": "748f5b08",
   "metadata": {
    "scrolled": true
   },
   "outputs": [
    {
     "name": "stderr",
     "output_type": "stream",
     "text": [
      "C:\\Users\\jyoth\\AppData\\Local\\Temp\\ipykernel_11620\\2887544763.py:21: UserWarning: pandas only supports SQLAlchemy connectable (engine/connection) or database string URI or sqlite3 DBAPI2 connection. Other DBAPI2 objects are not tested. Please consider using SQLAlchemy.\n",
      "  df = pd.read_sql(query, conn)\n"
     ]
    },
    {
     "name": "stdout",
     "output_type": "stream",
     "text": [
      "Data successfully extracted and saved to extracted_data.csv\n"
     ]
    }
   ],
   "source": [
    "import pyodbc\n",
    "import pandas as pd\n",
    "\n",
    "# SQL Server connection details\n",
    "server = 'JYOTHI\\SQLEXPRESS'   \n",
    "database = 'dataExtraction'\n",
    "driver = '{ODBC Driver 17 for SQL Server}'  # Ensure you have the right driver installed\n",
    "\n",
    "# Establish connection with Windows Authentication\n",
    "conn = pyodbc.connect(f'DRIVER={driver};SERVER={server};DATABASE={database};Trusted_Connection=yes;')\n",
    "\n",
    "# SQL Query to extract data\n",
    "query = \"\"\"Select * From dbo.sales WHERE\n",
    "    Status = 'Cancelled'\n",
    "    AND Sales_Channel  = 'Amazon.in'\n",
    "    AND ship_city = 'MUMBAI'\n",
    "    ORDER BY\n",
    "    Date DESC;\"\"\"\n",
    "\n",
    "# Execute query and load data into a Pandas DataFrame\n",
    "df = pd.read_sql(query, conn)\n",
    "\n",
    "# Save extracted data to a CSV file\n",
    "df.to_csv(\"C:/Users/jyoth/Data-Extraction-Project/data/extracted_data1.csv\", index=False)\n",
    "\n",
    "# Close the connection\n",
    "conn.close()\n",
    "\n",
    "print(\"Data successfully extracted and saved to extracted_data.csv\")\n"
   ]
  }
 ],
 "metadata": {
  "kernelspec": {
   "display_name": "Python 3 (ipykernel)",
   "language": "python",
   "name": "python3"
  },
  "language_info": {
   "codemirror_mode": {
    "name": "ipython",
    "version": 3
   },
   "file_extension": ".py",
   "mimetype": "text/x-python",
   "name": "python",
   "nbconvert_exporter": "python",
   "pygments_lexer": "ipython3",
   "version": "3.11.5"
  }
 },
 "nbformat": 4,
 "nbformat_minor": 5
}
